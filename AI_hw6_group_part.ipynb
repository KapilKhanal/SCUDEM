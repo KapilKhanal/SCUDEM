{
  "nbformat": 4,
  "nbformat_minor": 0,
  "metadata": {
    "colab": {
      "name": "AI_hw6_group_part",
      "version": "0.3.2",
      "provenance": [],
      "collapsed_sections": [],
      "include_colab_link": true
    },
    "kernelspec": {
      "name": "python3",
      "display_name": "Python 3"
    }
  },
  "cells": [
    {
      "cell_type": "markdown",
      "metadata": {
        "id": "view-in-github",
        "colab_type": "text"
      },
      "source": [
        "<a href=\"https://colab.research.google.com/github/KapilKhanal/SCUDEM/blob/master/AI_hw6_group_part.ipynb\" target=\"_parent\"><img src=\"https://colab.research.google.com/assets/colab-badge.svg\" alt=\"Open In Colab\"/></a>"
      ]
    },
    {
      "metadata": {
        "id": "sjmLL2-gsO_X",
        "colab_type": "code",
        "colab": {
          "base_uri": "https://localhost:8080/",
          "height": 357
        },
        "outputId": "fa2b2553-dbfc-4b91-9ea2-3ba18de690d7"
      },
      "cell_type": "code",
      "source": [
        "import numpy as np\n",
        "transition_matrix = np.matrix([[0,1/2,0,1/2,0,0,0,0,0],\n",
        "                              [1,0,0,0,0,0,0,0,0],\n",
        "                              [0,0,0,0,0,0,0,0,0],\n",
        "                              [1/2,0,0,0,0,0,1/2,0,0],\n",
        "                              [0,0,0,0,0,0,0,0,0],\n",
        "                              [0,0,0,0,0,0,0,0,1],\n",
        "                              [0,0,0,1/2,0,0,0,1/2,0],\n",
        "                              [0,0,0,0,0,0,1/2,0,1/2],\n",
        "                              [0,0,0,0,0,1/2,0,1/2,0]])\n",
        "sensor_model = np.zeros((9,9))\n",
        "sensor_model[0,0] = ((0.85)**2)*(.15)**2\n",
        "sensor_model[1,1] =((0.85)**3)*(.15)**1\n",
        "sensor_model[2,2] =0\n",
        "sensor_model[3,3] =((0.85)**2)*(.15)**2\n",
        "sensor_model[4,4] =0\n",
        "sensor_model[5,5] =((0.85)**3)*(.15)**1\n",
        "sensor_model[6,6] =((0.85)**4)\n",
        "sensor_model[7,7] =((0.85)**2)*(.15)**2\n",
        "sensor_model[8,8] =((0.85)**2)*(.15)**2\n",
        "\n",
        "prior_015 = np.matrix([[((0.85)**2)*(.15)**2,((0.85)**3)*(.15)**1,((0.85)**2)*(.15)**2,\n",
        "                    ((0.85)**2)*(.15)**2,((0.85)**2)*(.15)**2,((0.85)**2)*(.15)**2,\n",
        "                    ((0.85)**2)*(.15)**2,((0.85)**2)*(.15)**2,((0.85)**3)*(.15)**1]])\n",
        "prior_015 = prior_015.T #it should be 9 by 1 not 1 by 9..accidentaly made wrong shape so transpose\n",
        "\n",
        "\n",
        "prior_005 = np.matrix([[((0.95)**2)*(.05)**2,((0.95)**3)*(.05)**1,((0.95)**2)*(.05)**2,\n",
        "                    ((0.95)**2)*(.05)**2,((0.95)**2)*(.05)**2,((0.95)**2)*(.05)**2,\n",
        "                    ((0.95)**2)*(.05)**2,((0.95)**2)*(.05)**2,((0.95)**3)*(.05)**1]])\n",
        "prior_005 = prior_005.T #it should be 9 by 1 not 1 by 9..accidentaly made wrong shape so transpose\n",
        "\n",
        "\n",
        "def posterior(sensor_model,transition_matrix,prior):\n",
        "  normalize = lambda x:x/x.sum()\n",
        "  posterior = normalize((sensor_model*transition_matrix.T)*prior)\n",
        "  return posterior\n",
        "\n",
        "#Now we will be testing the model for two observation s with different e\n",
        "print(\"Posterior for e = 0.15\")\n",
        "print(posterior(sensor_model,transition_matrix,prior_015))\n",
        "print(\"Posterior for e = 0.05\")\n",
        "print(posterior(sensor_model,transition_matrix,prior_005))"
      ],
      "execution_count": 1,
      "outputs": [
        {
          "output_type": "stream",
          "text": [
            "Posterior for e = 0.15\n",
            "[[0.0978836 ]\n",
            " [0.04497354]\n",
            " [0.        ]\n",
            " [0.01587302]\n",
            " [0.        ]\n",
            " [0.25485009]\n",
            " [0.50970018]\n",
            " [0.05291005]\n",
            " [0.02380952]]\n",
            "Posterior for e = 0.05\n",
            "[[0.16145354]\n",
            " [0.02345906]\n",
            " [0.        ]\n",
            " [0.00827967]\n",
            " [0.        ]\n",
            " [0.44572217]\n",
            " [0.26586937]\n",
            " [0.08279669]\n",
            " [0.0124195 ]]\n"
          ],
          "name": "stdout"
        }
      ]
    },
    {
      "metadata": {
        "id": "wkKbeLaNssqn",
        "colab_type": "code",
        "colab": {}
      },
      "cell_type": "code",
      "source": [
        ""
      ],
      "execution_count": 0,
      "outputs": []
    }
  ]
}